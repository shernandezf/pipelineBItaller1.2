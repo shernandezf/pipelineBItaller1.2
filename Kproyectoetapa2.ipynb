{
 "cells": [
  {
   "cell_type": "markdown",
   "metadata": {
    "id": "IyuPnFrUM2AU"
   },
   "source": [
    "# Proyecto 1 Etapa 2\n",
    "\n",
    "Integrantes:\n",
    "\n",
    "- Sergio Molano\n",
    "- María Paula Tellez\n",
    "- Santiago Hernández\n",
    "\n",
    "## 1. Introducción\n",
    "\n",
    "**Tema: Determinar la elegibilidad de un paciente para ensayos clínicos de cáncer a partir de\n",
    "texto descriptivo**\n",
    "\n",
    "El cáncer es una enfermedad con alta tasa de mortalidad que afecta a los seres humanos. Actualmente no existe una cura para este padecimiento, pero si algunos tratamientos paleativos. Sin embargo, el ser humano siempre está innovando, por lo tanto, se relizan muchos ensayos clínicos alrededor del mundo para encontrar la cura a esta enfermedad. Es importante mencionar que al desarrollar los ensayos clínicos de los posibles tratamientos se pierde demasiado tiempo encontrando los sujetos adecuados para realizar la prueba.\n",
    "\n",
    "\n",
    "**Interés de negocio** \n",
    "\n",
    "A partir de un buen manejo de los datos brindados se puede llegar a identificar si un individuo es elegible para un ensayo clínico de cáncer a partir de un conjunto de palabras. Es importante mencionar que un modelo como este sería muy bueno para el desarrollo de la expectativa de vida humana, pues esta herramienta permitiría acelerar el desarrollo de los ensayos clínicos, lo que eventualmente se traduciría en encontrar pronto una cura a esta enfermedad que afecta a las personas. "
   ]
  },
  {
   "cell_type": "markdown",
   "metadata": {
    "id": "s_tsYli3M2Af"
   },
   "source": [
    "## 2. Carga de librerías"
   ]
  },
  {
   "cell_type": "code",
   "execution_count": 1,
   "metadata": {
    "colab": {
     "base_uri": "https://localhost:8080/"
    },
    "id": "2BeZ-WjZM2Ag",
    "outputId": "1c40d3c7-a99e-4b28-d523-4be0e387c5c6"
   },
   "outputs": [
    {
     "name": "stderr",
     "output_type": "stream",
     "text": [
      "[nltk_data] Downloading package stopwords to\n",
      "[nltk_data]     C:\\Users\\peluc\\AppData\\Roaming\\nltk_data...\n",
      "[nltk_data]   Package stopwords is already up-to-date!\n",
      "[nltk_data] Downloading package brown to\n",
      "[nltk_data]     C:\\Users\\peluc\\AppData\\Roaming\\nltk_data...\n",
      "[nltk_data]   Unzipping corpora\\brown.zip.\n",
      "[nltk_data] Downloading package names to\n",
      "[nltk_data]     C:\\Users\\peluc\\AppData\\Roaming\\nltk_data...\n",
      "[nltk_data]   Unzipping corpora\\names.zip.\n",
      "[nltk_data] Downloading package wordnet to\n",
      "[nltk_data]     C:\\Users\\peluc\\AppData\\Roaming\\nltk_data...\n",
      "[nltk_data]   Package wordnet is already up-to-date!\n",
      "[nltk_data] Downloading package averaged_perceptron_tagger to\n",
      "[nltk_data]     C:\\Users\\peluc\\AppData\\Roaming\\nltk_data...\n",
      "[nltk_data]   Unzipping taggers\\averaged_perceptron_tagger.zip.\n",
      "[nltk_data] Downloading package universal_tagset to\n",
      "[nltk_data]     C:\\Users\\peluc\\AppData\\Roaming\\nltk_data...\n",
      "[nltk_data]   Unzipping taggers\\universal_tagset.zip.\n"
     ]
    }
   ],
   "source": [
    "#importacion modulos\n",
    "import numpy as np\n",
    "import pandas as pd\n",
    "import nltk\n",
    "nltk.download('stopwords')\n",
    "\n",
    "from sklearn.model_selection import train_test_split\n",
    "from sklearn.pipeline import Pipeline\n",
    "from sklearn.naive_bayes import MultinomialNB # classifier \n",
    "\n",
    "from sklearn.metrics import (\n",
    "    accuracy_score,\n",
    "    classification_report,\n",
    "    plot_confusion_matrix,\n",
    ")\n",
    "from sklearn.feature_extraction.text import TfidfVectorizer, CountVectorizer\n",
    "\n",
    "#  modulos de procesamiento de texto\n",
    "from nltk.tokenize import word_tokenize\n",
    "\n",
    "import nltk\n",
    "from nltk.corpus import stopwords\n",
    "from nltk.stem import WordNetLemmatizer \n",
    "import re \n",
    "for dependency in (\n",
    "    \"brown\",\n",
    "    \"names\",\n",
    "    \"wordnet\",\n",
    "    \"averaged_perceptron_tagger\",\n",
    "    \"universal_tagset\",\n",
    "):\n",
    "    nltk.download(dependency)\n",
    "    \n",
    "import warnings\n",
    "warnings.filterwarnings(\"ignore\")\n",
    "np.random.seed(123)"
   ]
  },
  {
   "cell_type": "code",
   "execution_count": 2,
   "metadata": {},
   "outputs": [
    {
     "name": "stderr",
     "output_type": "stream",
     "text": [
      "[nltk_data] Downloading package stopwords to\n",
      "[nltk_data]     C:\\Users\\peluc\\AppData\\Roaming\\nltk_data...\n",
      "[nltk_data]   Package stopwords is already up-to-date!\n"
     ]
    }
   ],
   "source": [
    "# Gráficos\n",
    "import matplotlib.pyplot as plt\n",
    "from matplotlib import style\n",
    "import seaborn as sns\n",
    "\n",
    "# Preprocesado\n",
    "import nltk\n",
    "nltk.download('stopwords')\n",
    "from nltk.corpus import stopwords\n",
    "from imblearn.over_sampling import SMOTE\n",
    "from sklearn.model_selection import train_test_split\n",
    "from sklearn.model_selection import KFold \n",
    "from sklearn.model_selection import GridSearchCV\n",
    "from sklearn.feature_extraction.text import TfidfVectorizer, CountVectorizer\n",
    "\n",
    "# Modelado\n",
    "from sklearn.svm import SVC\n",
    "from sklearn.tree import DecisionTreeClassifier\n",
    "from sklearn.ensemble import RandomForestClassifier\n",
    "from sklearn.naive_bayes import MultinomialNB\n",
    "from sklearn.neighbors import KNeighborsClassifier\n",
    "\n",
    "# Métricas\n",
    "from sklearn.metrics import accuracy_score, precision_score, recall_score, f1_score\n",
    "from sklearn.metrics import confusion_matrix\n",
    "from sklearn.metrics import plot_confusion_matrix\n",
    "from sklearn.metrics import classification_report\n",
    "\n",
    "# Configuración warnings\n",
    "import warnings\n",
    "warnings.filterwarnings('ignore')"
   ]
  },
  {
   "cell_type": "code",
   "execution_count": 3,
   "metadata": {},
   "outputs": [],
   "source": [
    "#importar librerias\n",
    "import pandas as pd\n",
    "import joblib\n",
    "\n",
    "from sklearn.preprocessing import OneHotEncoder, StandardScaler\n",
    "from sklearn.compose import ColumnTransformer\n",
    "from sklearn.pipeline import Pipeline\n",
    "from sklearn.ensemble import RandomForestClassifier\n",
    "from sklearn.model_selection import train_test_split\n",
    "from sklearn.metrics import roc_auc_score, accuracy_score, confusion_matrix"
   ]
  },
  {
   "cell_type": "markdown",
   "metadata": {},
   "source": [
    "## 3. Perfilamiento y pre-procesamiento de los datos"
   ]
  },
  {
   "cell_type": "markdown",
   "metadata": {},
   "source": [
    "* Exploración y Perfilamiento de Datos\n",
    "    * Carga\n",
    "    * Manipulación Básica\n",
    "    * Visualización\n",
    "    * Resumenes automáticos"
   ]
  },
  {
   "cell_type": "markdown",
   "metadata": {},
   "source": [
    "### 2.1 Carga de los datos"
   ]
  },
  {
   "cell_type": "code",
   "execution_count": 4,
   "metadata": {
    "id": "JQgfwHPFM2Am"
   },
   "outputs": [],
   "source": [
    "#Se procede a realizar la carga de los datos\n",
    "df_tracks = pd.read_csv(\"clinical_trials_on_cancer_data_clasificacion.csv\", sep=',', encoding = 'utf-8')"
   ]
  },
  {
   "cell_type": "markdown",
   "metadata": {},
   "source": [
    "# Perfilamiento"
   ]
  },
  {
   "cell_type": "code",
   "execution_count": 5,
   "metadata": {
    "colab": {
     "base_uri": "https://localhost:8080/"
    },
    "id": "sq28li4IM2Ao",
    "outputId": "cb193c70-8ede-47fb-e4da-3beaf344a763"
   },
   "outputs": [
    {
     "data": {
      "text/plain": [
       "(12000, 2)"
      ]
     },
     "execution_count": 5,
     "metadata": {},
     "output_type": "execute_result"
    }
   ],
   "source": [
    "df_tracks.shape"
   ]
  },
  {
   "cell_type": "code",
   "execution_count": 6,
   "metadata": {
    "colab": {
     "base_uri": "https://localhost:8080/"
    },
    "id": "LBTzxUMcM2Ap",
    "outputId": "019a7ee7-eed0-4248-e9d1-c52d733a65da"
   },
   "outputs": [
    {
     "name": "stdout",
     "output_type": "stream",
     "text": [
      "<class 'pandas.core.frame.DataFrame'>\n",
      "RangeIndex: 12000 entries, 0 to 11999\n",
      "Data columns (total 2 columns):\n",
      " #   Column               Non-Null Count  Dtype \n",
      "---  ------               --------------  ----- \n",
      " 0   label                12000 non-null  object\n",
      " 1   study_and_condition  12000 non-null  object\n",
      "dtypes: object(2)\n",
      "memory usage: 187.6+ KB\n"
     ]
    }
   ],
   "source": [
    "df_tracks.info()"
   ]
  },
  {
   "cell_type": "markdown",
   "metadata": {},
   "source": [
    "Hay un total de 12000 filas y 2 columnas. De los datos no hay nulos en las columnas.Todas las columnas son de tipo objeto."
   ]
  },
  {
   "cell_type": "code",
   "execution_count": 7,
   "metadata": {
    "colab": {
     "base_uri": "https://localhost:8080/"
    },
    "id": "4FNeYdTHM2Ar",
    "outputId": "e4d94cb9-2d48-41f8-c559-82738b8569ca",
    "scrolled": true
   },
   "outputs": [
    {
     "data": {
      "text/html": [
       "<div>\n",
       "<style scoped>\n",
       "    .dataframe tbody tr th:only-of-type {\n",
       "        vertical-align: middle;\n",
       "    }\n",
       "\n",
       "    .dataframe tbody tr th {\n",
       "        vertical-align: top;\n",
       "    }\n",
       "\n",
       "    .dataframe thead th {\n",
       "        text-align: right;\n",
       "    }\n",
       "</style>\n",
       "<table border=\"1\" class=\"dataframe\">\n",
       "  <thead>\n",
       "    <tr style=\"text-align: right;\">\n",
       "      <th></th>\n",
       "      <th>label</th>\n",
       "      <th>study_and_condition</th>\n",
       "      <th>Conteo</th>\n",
       "    </tr>\n",
       "  </thead>\n",
       "  <tbody>\n",
       "    <tr>\n",
       "      <th>3744</th>\n",
       "      <td>__label__1</td>\n",
       "      <td>study interventions are Albumin-Bound Paclitax...</td>\n",
       "      <td>132</td>\n",
       "    </tr>\n",
       "    <tr>\n",
       "      <th>10969</th>\n",
       "      <td>__label__1</td>\n",
       "      <td>study interventions are Albumin-Bound Paclitax...</td>\n",
       "      <td>150</td>\n",
       "    </tr>\n",
       "    <tr>\n",
       "      <th>10</th>\n",
       "      <td>__label__1</td>\n",
       "      <td>study interventions are Liposomal doxorubicin ...</td>\n",
       "      <td>129</td>\n",
       "    </tr>\n",
       "    <tr>\n",
       "      <th>1674</th>\n",
       "      <td>__label__0</td>\n",
       "      <td>study interventions are Albumin-Bound Paclitax...</td>\n",
       "      <td>112</td>\n",
       "    </tr>\n",
       "  </tbody>\n",
       "</table>\n",
       "</div>"
      ],
      "text/plain": [
       "            label                                study_and_condition  Conteo\n",
       "3744   __label__1  study interventions are Albumin-Bound Paclitax...     132\n",
       "10969  __label__1  study interventions are Albumin-Bound Paclitax...     150\n",
       "10     __label__1  study interventions are Liposomal doxorubicin ...     129\n",
       "1674   __label__0  study interventions are Albumin-Bound Paclitax...     112"
      ]
     },
     "execution_count": 7,
     "metadata": {},
     "output_type": "execute_result"
    }
   ],
   "source": [
    "textos = df_tracks.copy()\n",
    "textos['Conteo'] = [len(x) for x in textos['study_and_condition']]\n",
    "textos.sample(4)"
   ]
  },
  {
   "cell_type": "markdown",
   "metadata": {},
   "source": [
    "En el fragmento anterior de puede apreciar un conteo de las variables para hacerse una idea del manejo de los datos."
   ]
  },
  {
   "cell_type": "code",
   "execution_count": 8,
   "metadata": {},
   "outputs": [
    {
     "data": {
      "text/plain": [
       "count    12000.000000\n",
       "mean       173.782500\n",
       "std         85.825052\n",
       "min         42.000000\n",
       "25%        117.000000\n",
       "50%        152.000000\n",
       "75%        205.250000\n",
       "max       1080.000000\n",
       "Name: Conteo, dtype: float64"
      ]
     },
     "execution_count": 8,
     "metadata": {},
     "output_type": "execute_result"
    }
   ],
   "source": [
    "textos[\"Conteo\"].describe()"
   ]
  },
  {
   "cell_type": "code",
   "execution_count": 9,
   "metadata": {},
   "outputs": [
    {
     "data": {
      "text/html": [
       "<div>\n",
       "<style scoped>\n",
       "    .dataframe tbody tr th:only-of-type {\n",
       "        vertical-align: middle;\n",
       "    }\n",
       "\n",
       "    .dataframe tbody tr th {\n",
       "        vertical-align: top;\n",
       "    }\n",
       "\n",
       "    .dataframe thead th {\n",
       "        text-align: right;\n",
       "    }\n",
       "</style>\n",
       "<table border=\"1\" class=\"dataframe\">\n",
       "  <thead>\n",
       "    <tr style=\"text-align: right;\">\n",
       "      <th></th>\n",
       "      <th>label</th>\n",
       "      <th>study_and_condition</th>\n",
       "    </tr>\n",
       "  </thead>\n",
       "  <tbody>\n",
       "    <tr>\n",
       "      <th>1199</th>\n",
       "      <td>__label__0</td>\n",
       "      <td>study interventions are Doxorubicin . melanoma...</td>\n",
       "    </tr>\n",
       "    <tr>\n",
       "      <th>2037</th>\n",
       "      <td>__label__1</td>\n",
       "      <td>study interventions are Vidarabine . stage iii...</td>\n",
       "    </tr>\n",
       "    <tr>\n",
       "      <th>1485</th>\n",
       "      <td>__label__1</td>\n",
       "      <td>study interventions are Hormones . prostate ca...</td>\n",
       "    </tr>\n",
       "    <tr>\n",
       "      <th>1716</th>\n",
       "      <td>__label__0</td>\n",
       "      <td>study interventions are Alvocidib . stage iii ...</td>\n",
       "    </tr>\n",
       "    <tr>\n",
       "      <th>3398</th>\n",
       "      <td>__label__0</td>\n",
       "      <td>study interventions are Vaccines . breast canc...</td>\n",
       "    </tr>\n",
       "    <tr>\n",
       "      <th>9629</th>\n",
       "      <td>__label__1</td>\n",
       "      <td>study interventions are Antibodies, Monoclonal...</td>\n",
       "    </tr>\n",
       "    <tr>\n",
       "      <th>3165</th>\n",
       "      <td>__label__0</td>\n",
       "      <td>study interventions are Bevacizumab . recurren...</td>\n",
       "    </tr>\n",
       "    <tr>\n",
       "      <th>1336</th>\n",
       "      <td>__label__0</td>\n",
       "      <td>study interventions are Everolimus . gastrinom...</td>\n",
       "    </tr>\n",
       "    <tr>\n",
       "      <th>963</th>\n",
       "      <td>__label__1</td>\n",
       "      <td>study interventions are Cyclophosphamide . dif...</td>\n",
       "    </tr>\n",
       "    <tr>\n",
       "      <th>6102</th>\n",
       "      <td>__label__0</td>\n",
       "      <td>study interventions are Interleukin-2 . metast...</td>\n",
       "    </tr>\n",
       "    <tr>\n",
       "      <th>2751</th>\n",
       "      <td>__label__1</td>\n",
       "      <td>study interventions are Epirubicin . breast ne...</td>\n",
       "    </tr>\n",
       "    <tr>\n",
       "      <th>4858</th>\n",
       "      <td>__label__0</td>\n",
       "      <td>study interventions are Blood samples collecti...</td>\n",
       "    </tr>\n",
       "    <tr>\n",
       "      <th>8106</th>\n",
       "      <td>__label__0</td>\n",
       "      <td>study interventions are Romidepsin . carcinoma...</td>\n",
       "    </tr>\n",
       "    <tr>\n",
       "      <th>7178</th>\n",
       "      <td>__label__1</td>\n",
       "      <td>study interventions are Doxorubicin . stage ma...</td>\n",
       "    </tr>\n",
       "    <tr>\n",
       "      <th>11951</th>\n",
       "      <td>__label__0</td>\n",
       "      <td>study interventions are Everolimus . mantle ce...</td>\n",
       "    </tr>\n",
       "    <tr>\n",
       "      <th>212</th>\n",
       "      <td>__label__1</td>\n",
       "      <td>study interventions are Albumin-Bound Paclitax...</td>\n",
       "    </tr>\n",
       "    <tr>\n",
       "      <th>5044</th>\n",
       "      <td>__label__1</td>\n",
       "      <td>study interventions are Carboplatin . untreate...</td>\n",
       "    </tr>\n",
       "    <tr>\n",
       "      <th>9886</th>\n",
       "      <td>__label__0</td>\n",
       "      <td>study interventions are Imatinib Mesylate . so...</td>\n",
       "    </tr>\n",
       "    <tr>\n",
       "      <th>11960</th>\n",
       "      <td>__label__0</td>\n",
       "      <td>study interventions are Immunoglobulins . mant...</td>\n",
       "    </tr>\n",
       "    <tr>\n",
       "      <th>4101</th>\n",
       "      <td>__label__0</td>\n",
       "      <td>study interventions are Dexamethasone . neurob...</td>\n",
       "    </tr>\n",
       "  </tbody>\n",
       "</table>\n",
       "</div>"
      ],
      "text/plain": [
       "            label                                study_and_condition\n",
       "1199   __label__0  study interventions are Doxorubicin . melanoma...\n",
       "2037   __label__1  study interventions are Vidarabine . stage iii...\n",
       "1485   __label__1  study interventions are Hormones . prostate ca...\n",
       "1716   __label__0  study interventions are Alvocidib . stage iii ...\n",
       "3398   __label__0  study interventions are Vaccines . breast canc...\n",
       "9629   __label__1  study interventions are Antibodies, Monoclonal...\n",
       "3165   __label__0  study interventions are Bevacizumab . recurren...\n",
       "1336   __label__0  study interventions are Everolimus . gastrinom...\n",
       "963    __label__1  study interventions are Cyclophosphamide . dif...\n",
       "6102   __label__0  study interventions are Interleukin-2 . metast...\n",
       "2751   __label__1  study interventions are Epirubicin . breast ne...\n",
       "4858   __label__0  study interventions are Blood samples collecti...\n",
       "8106   __label__0  study interventions are Romidepsin . carcinoma...\n",
       "7178   __label__1  study interventions are Doxorubicin . stage ma...\n",
       "11951  __label__0  study interventions are Everolimus . mantle ce...\n",
       "212    __label__1  study interventions are Albumin-Bound Paclitax...\n",
       "5044   __label__1  study interventions are Carboplatin . untreate...\n",
       "9886   __label__0  study interventions are Imatinib Mesylate . so...\n",
       "11960  __label__0  study interventions are Immunoglobulins . mant...\n",
       "4101   __label__0  study interventions are Dexamethasone . neurob..."
      ]
     },
     "metadata": {},
     "output_type": "display_data"
    }
   ],
   "source": [
    "display(df_tracks.sample(20))"
   ]
  },
  {
   "cell_type": "markdown",
   "metadata": {
    "id": "aJ0ubn1oM2As"
   },
   "source": [
    "## 4. Preparación de los datos"
   ]
  },
  {
   "cell_type": "markdown",
   "metadata": {},
   "source": [
    "A continuacion, se hace un tratamiento de los datos utilizando stopwords,}el paquete stop-words se utiliza para eliminar palabras vacías del texto en Python. el codigo siguiente eliminara todas las palabras vacias, palabras sin importancia para el analisis. "
   ]
  },
  {
   "cell_type": "code",
   "execution_count": 10,
   "metadata": {
    "id": "3Gmm-CkjM2At"
   },
   "outputs": [],
   "source": [
    "\n",
    "stop_words =  stopwords.words('english')\n",
    "\n",
    "def text_cleaning(text, remove_stop_words=True, lemmatize_words=True):\n",
    "    # Clean the text, with the option to remove stop_words and to lemmatize word\n",
    "\n",
    "    # Clean the text\n",
    "    text = re.sub(r\"[^A-Za-z0-9]\", \" \", text)\n",
    "    text = re.sub(r\"\\'s\", \" \", text)\n",
    "    text =  re.sub(r'http\\S+',' link ', text)\n",
    "    text = re.sub(r'\\b\\d+(?:\\.\\d+)?\\s+', '', text) # remove numbers\n",
    "        \n",
    "    # Remove punctuation from text\n",
    "   # text = ''.join([c for c in text if c not in punctuation])\n",
    "    \n",
    "    # Optionally, remove stop words\n",
    "    if remove_stop_words:\n",
    "        text = text.split()\n",
    "        text = [w for w in text if not w in stop_words]\n",
    "        text = \" \".join(text)\n",
    "    \n",
    "    # Optionally, shorten words to their stems\n",
    "    if lemmatize_words:\n",
    "        text = text.split()\n",
    "        lemmatizer = WordNetLemmatizer() \n",
    "        lemmatized_words = [lemmatizer.lemmatize(word) for word in text]\n",
    "        text = \" \".join(lemmatized_words)\n",
    "    \n",
    "    # Return a list of words\n",
    "    return(text)"
   ]
  },
  {
   "cell_type": "markdown",
   "metadata": {},
   "source": [
    "Se crea una columna con los datos limpios."
   ]
  },
  {
   "cell_type": "code",
   "execution_count": 11,
   "metadata": {
    "id": "YCxjHBQuM2Au"
   },
   "outputs": [],
   "source": [
    "#limpiar los datos\n",
    "df_tracks[\"Limpiostudycondition\"] = df_tracks[\"study_and_condition\"].apply(text_cleaning)"
   ]
  },
  {
   "cell_type": "code",
   "execution_count": 12,
   "metadata": {
    "colab": {
     "base_uri": "https://localhost:8080/",
     "height": 206
    },
    "id": "ENihLVloTy7g",
    "outputId": "cf0f857d-1db0-4a2c-f166-353798d30d88",
    "scrolled": true
   },
   "outputs": [
    {
     "data": {
      "text/html": [
       "<div>\n",
       "<style scoped>\n",
       "    .dataframe tbody tr th:only-of-type {\n",
       "        vertical-align: middle;\n",
       "    }\n",
       "\n",
       "    .dataframe tbody tr th {\n",
       "        vertical-align: top;\n",
       "    }\n",
       "\n",
       "    .dataframe thead th {\n",
       "        text-align: right;\n",
       "    }\n",
       "</style>\n",
       "<table border=\"1\" class=\"dataframe\">\n",
       "  <thead>\n",
       "    <tr style=\"text-align: right;\">\n",
       "      <th></th>\n",
       "      <th>label</th>\n",
       "      <th>study_and_condition</th>\n",
       "      <th>Limpiostudycondition</th>\n",
       "    </tr>\n",
       "  </thead>\n",
       "  <tbody>\n",
       "    <tr>\n",
       "      <th>0</th>\n",
       "      <td>__label__0</td>\n",
       "      <td>study interventions are Saracatinib . recurren...</td>\n",
       "      <td>study intervention Saracatinib recurrent verru...</td>\n",
       "    </tr>\n",
       "    <tr>\n",
       "      <th>1</th>\n",
       "      <td>__label__1</td>\n",
       "      <td>study interventions are Stem cell transplantat...</td>\n",
       "      <td>study intervention Stem cell transplantation h...</td>\n",
       "    </tr>\n",
       "    <tr>\n",
       "      <th>2</th>\n",
       "      <td>__label__0</td>\n",
       "      <td>study interventions are Lenograstim . recurren...</td>\n",
       "      <td>study intervention Lenograstim recurrent adult...</td>\n",
       "    </tr>\n",
       "    <tr>\n",
       "      <th>3</th>\n",
       "      <td>__label__0</td>\n",
       "      <td>study interventions are Doxorubicin . stage ii...</td>\n",
       "      <td>study intervention Doxorubicin stage iii diffu...</td>\n",
       "    </tr>\n",
       "    <tr>\n",
       "      <th>4</th>\n",
       "      <td>__label__1</td>\n",
       "      <td>study interventions are Poly I-C . prostate ca...</td>\n",
       "      <td>study intervention Poly I C prostate cancer di...</td>\n",
       "    </tr>\n",
       "  </tbody>\n",
       "</table>\n",
       "</div>"
      ],
      "text/plain": [
       "        label                                study_and_condition  \\\n",
       "0  __label__0  study interventions are Saracatinib . recurren...   \n",
       "1  __label__1  study interventions are Stem cell transplantat...   \n",
       "2  __label__0  study interventions are Lenograstim . recurren...   \n",
       "3  __label__0  study interventions are Doxorubicin . stage ii...   \n",
       "4  __label__1  study interventions are Poly I-C . prostate ca...   \n",
       "\n",
       "                                Limpiostudycondition  \n",
       "0  study intervention Saracatinib recurrent verru...  \n",
       "1  study intervention Stem cell transplantation h...  \n",
       "2  study intervention Lenograstim recurrent adult...  \n",
       "3  study intervention Doxorubicin stage iii diffu...  \n",
       "4  study intervention Poly I C prostate cancer di...  "
      ]
     },
     "execution_count": 12,
     "metadata": {},
     "output_type": "execute_result"
    }
   ],
   "source": [
    "df_tracks.head()"
   ]
  },
  {
   "cell_type": "markdown",
   "metadata": {},
   "source": [
    "Otro problema que tenemos es que, la columna label tiene ruido, lo cual impide el correcto funcionamiento del algoritmo, para esto, vamos a eliminar la parte __label__ y dejar únicamente los 1 y los 0 y posteriormente pasar la columna a ser tipo int."
   ]
  },
  {
   "cell_type": "code",
   "execution_count": 13,
   "metadata": {},
   "outputs": [],
   "source": [
    "df_tracks['label'] = df_tracks.label.str.split('__', expand = True)[2]"
   ]
  },
  {
   "cell_type": "code",
   "execution_count": 30,
   "metadata": {},
   "outputs": [],
   "source": [
    "pd.options.display.max_colwidth=300"
   ]
  },
  {
   "cell_type": "code",
   "execution_count": 31,
   "metadata": {},
   "outputs": [
    {
     "data": {
      "text/html": [
       "<div>\n",
       "<style scoped>\n",
       "    .dataframe tbody tr th:only-of-type {\n",
       "        vertical-align: middle;\n",
       "    }\n",
       "\n",
       "    .dataframe tbody tr th {\n",
       "        vertical-align: top;\n",
       "    }\n",
       "\n",
       "    .dataframe thead th {\n",
       "        text-align: right;\n",
       "    }\n",
       "</style>\n",
       "<table border=\"1\" class=\"dataframe\">\n",
       "  <thead>\n",
       "    <tr style=\"text-align: right;\">\n",
       "      <th></th>\n",
       "      <th>label</th>\n",
       "      <th>study_and_condition</th>\n",
       "      <th>Limpiostudycondition</th>\n",
       "    </tr>\n",
       "  </thead>\n",
       "  <tbody>\n",
       "    <tr>\n",
       "      <th>2052</th>\n",
       "      <td>1</td>\n",
       "      <td>study interventions are Cyclophosphamide . diffuse large cell lymphoma diagnosis and patients who did not conform to above criteria</td>\n",
       "      <td>study intervention Cyclophosphamide diffuse large cell lymphoma diagnosis patient conform criterion</td>\n",
       "    </tr>\n",
       "    <tr>\n",
       "      <th>4958</th>\n",
       "      <td>0</td>\n",
       "      <td>study interventions are Cyclophosphamide . lymphoma diagnosis and life expectancy</td>\n",
       "      <td>study intervention Cyclophosphamide lymphoma diagnosis life expectancy</td>\n",
       "    </tr>\n",
       "    <tr>\n",
       "      <th>814</th>\n",
       "      <td>1</td>\n",
       "      <td>study interventions are Fluorouracil . intestinal adenocarcinoma of the stomach diagnosis and patients who have any severe and or uncontrolled medical conditions or other conditions that could affect their participation in the study such as</td>\n",
       "      <td>study intervention Fluorouracil intestinal adenocarcinoma stomach diagnosis patient severe uncontrolled medical condition condition could affect participation study</td>\n",
       "    </tr>\n",
       "    <tr>\n",
       "      <th>2361</th>\n",
       "      <td>1</td>\n",
       "      <td>study interventions are Cyclosporine . unspecified childhood solid tumor protocol specific diagnosis and positive serology for toxoplasma_gondii on treatment or with evidence of active infection</td>\n",
       "      <td>study intervention Cyclosporine unspecified childhood solid tumor protocol specific diagnosis positive serology toxoplasma gondii treatment evidence active infection</td>\n",
       "    </tr>\n",
       "    <tr>\n",
       "      <th>11289</th>\n",
       "      <td>0</td>\n",
       "      <td>study interventions are Bevacizumab . neuroendocrine tumors diagnosis and doc uln alt and ast less_than doc uln</td>\n",
       "      <td>study intervention Bevacizumab neuroendocrine tumor diagnosis doc uln alt ast le doc uln</td>\n",
       "    </tr>\n",
       "    <tr>\n",
       "      <th>3839</th>\n",
       "      <td>1</td>\n",
       "      <td>study interventions are Antibodies, Monoclonal . non hodgkin lymphomas diagnosis and positive serology for hepatitis hc defined as positive test for hcab in which case reflexively perform hc riba immunoblot assay on the same sample to confirm the result</td>\n",
       "      <td>study intervention Antibodies Monoclonal non hodgkin lymphoma diagnosis positive serology hepatitis hc defined positive test hcab case reflexively perform hc riba immunoblot assay sample confirm result</td>\n",
       "    </tr>\n",
       "    <tr>\n",
       "      <th>5475</th>\n",
       "      <td>1</td>\n",
       "      <td>study interventions are Dexamethasone acetate . primary central nervious system lymphoma diagnosis and malignancy treated with curative intent and with no evidence of active disease present for more than three years prior to screening and felt to be at low risk for recurrence by treating physician</td>\n",
       "      <td>study intervention Dexamethasone acetate primary central nervious system lymphoma diagnosis malignancy treated curative intent evidence active disease present three year prior screening felt low risk recurrence treating physician</td>\n",
       "    </tr>\n",
       "    <tr>\n",
       "      <th>11121</th>\n",
       "      <td>0</td>\n",
       "      <td>study interventions are Pentamidine . pancreatic cancer diagnosis and normal ecg</td>\n",
       "      <td>study intervention Pentamidine pancreatic cancer diagnosis normal ecg</td>\n",
       "    </tr>\n",
       "    <tr>\n",
       "      <th>9563</th>\n",
       "      <td>1</td>\n",
       "      <td>study interventions are Vidarabine . stage iii adult diffuse mixed cell lymphoma diagnosis and presence of circulating leukemic blasts in the peripheral blood detected by standard pathology for patients with aml all or cml</td>\n",
       "      <td>study intervention Vidarabine stage iii adult diffuse mixed cell lymphoma diagnosis presence circulating leukemic blast peripheral blood detected standard pathology patient aml cml</td>\n",
       "    </tr>\n",
       "    <tr>\n",
       "      <th>6717</th>\n",
       "      <td>0</td>\n",
       "      <td>study interventions are Cyclosporine . hematologic neoplasm diagnosis and fit to receive csf and give peripheral blood stem cells normal blood count normotensive no history of stroke</td>\n",
       "      <td>study intervention Cyclosporine hematologic neoplasm diagnosis fit receive csf give peripheral blood stem cell normal blood count normotensive history stroke</td>\n",
       "    </tr>\n",
       "  </tbody>\n",
       "</table>\n",
       "</div>"
      ],
      "text/plain": [
       "      label  \\\n",
       "2052      1   \n",
       "4958      0   \n",
       "814       1   \n",
       "2361      1   \n",
       "11289     0   \n",
       "3839      1   \n",
       "5475      1   \n",
       "11121     0   \n",
       "9563      1   \n",
       "6717      0   \n",
       "\n",
       "                                                                                                                                                                                                                                                                                              study_and_condition  \\\n",
       "2052                                                                                                                                                                          study interventions are Cyclophosphamide . diffuse large cell lymphoma diagnosis and patients who did not conform to above criteria   \n",
       "4958                                                                                                                                                                                                                            study interventions are Cyclophosphamide . lymphoma diagnosis and life expectancy   \n",
       "814                                                              study interventions are Fluorouracil . intestinal adenocarcinoma of the stomach diagnosis and patients who have any severe and or uncontrolled medical conditions or other conditions that could affect their participation in the study such as   \n",
       "2361                                                                                                           study interventions are Cyclosporine . unspecified childhood solid tumor protocol specific diagnosis and positive serology for toxoplasma_gondii on treatment or with evidence of active infection   \n",
       "11289                                                                                                                                                                                             study interventions are Bevacizumab . neuroendocrine tumors diagnosis and doc uln alt and ast less_than doc uln   \n",
       "3839                                                study interventions are Antibodies, Monoclonal . non hodgkin lymphomas diagnosis and positive serology for hepatitis hc defined as positive test for hcab in which case reflexively perform hc riba immunoblot assay on the same sample to confirm the result   \n",
       "5475   study interventions are Dexamethasone acetate . primary central nervious system lymphoma diagnosis and malignancy treated with curative intent and with no evidence of active disease present for more than three years prior to screening and felt to be at low risk for recurrence by treating physician   \n",
       "11121                                                                                                                                                                                                                            study interventions are Pentamidine . pancreatic cancer diagnosis and normal ecg   \n",
       "9563                                                                               study interventions are Vidarabine . stage iii adult diffuse mixed cell lymphoma diagnosis and presence of circulating leukemic blasts in the peripheral blood detected by standard pathology for patients with aml all or cml   \n",
       "6717                                                                                                                       study interventions are Cyclosporine . hematologic neoplasm diagnosis and fit to receive csf and give peripheral blood stem cells normal blood count normotensive no history of stroke   \n",
       "\n",
       "                                                                                                                                                                                                                        Limpiostudycondition  \n",
       "2052                                                                                                                                     study intervention Cyclophosphamide diffuse large cell lymphoma diagnosis patient conform criterion  \n",
       "4958                                                                                                                                                                  study intervention Cyclophosphamide lymphoma diagnosis life expectancy  \n",
       "814                                                                     study intervention Fluorouracil intestinal adenocarcinoma stomach diagnosis patient severe uncontrolled medical condition condition could affect participation study  \n",
       "2361                                                                   study intervention Cyclosporine unspecified childhood solid tumor protocol specific diagnosis positive serology toxoplasma gondii treatment evidence active infection  \n",
       "11289                                                                                                                                               study intervention Bevacizumab neuroendocrine tumor diagnosis doc uln alt ast le doc uln  \n",
       "3839                               study intervention Antibodies Monoclonal non hodgkin lymphoma diagnosis positive serology hepatitis hc defined positive test hcab case reflexively perform hc riba immunoblot assay sample confirm result  \n",
       "5475   study intervention Dexamethasone acetate primary central nervious system lymphoma diagnosis malignancy treated curative intent evidence active disease present three year prior screening felt low risk recurrence treating physician  \n",
       "11121                                                                                                                                                                  study intervention Pentamidine pancreatic cancer diagnosis normal ecg  \n",
       "9563                                                    study intervention Vidarabine stage iii adult diffuse mixed cell lymphoma diagnosis presence circulating leukemic blast peripheral blood detected standard pathology patient aml cml  \n",
       "6717                                                                           study intervention Cyclosporine hematologic neoplasm diagnosis fit receive csf give peripheral blood stem cell normal blood count normotensive history stroke  "
      ]
     },
     "metadata": {},
     "output_type": "display_data"
    }
   ],
   "source": [
    "display(df_tracks.sample(10))"
   ]
  },
  {
   "cell_type": "markdown",
   "metadata": {
    "id": "EYIgUfOJM2Ax"
   },
   "source": [
    "# Crear clasificador"
   ]
  },
  {
   "cell_type": "markdown",
   "metadata": {},
   "source": [
    "En este paso se desarrollo el pipeline"
   ]
  },
  {
   "cell_type": "code",
   "execution_count": 18,
   "metadata": {
    "id": "7AzvwXE6M2Av"
   },
   "outputs": [],
   "source": [
    "#separar los datos de train data\n",
    "X = df_tracks[\"Limpiostudycondition\"]\n",
    "y = df_tracks.label.values"
   ]
  },
  {
   "cell_type": "code",
   "execution_count": 19,
   "metadata": {
    "id": "IGQ4KP4AM2Aw"
   },
   "outputs": [],
   "source": [
    "# separar los datos en trining y test \n",
    "\n",
    "X_train, X_test, y_train, y_test = train_test_split(\n",
    "    X,\n",
    "    y,\n",
    "    test_size=0.15,\n",
    "    random_state=42,\n",
    "    shuffle=True,\n",
    "    stratify=y,\n",
    ")"
   ]
  },
  {
   "cell_type": "markdown",
   "metadata": {},
   "source": [
    "Para la creacion del pipeline, se usaron los hiperparametros del mejor modelo obtenido en la entrega 1 del proyecto"
   ]
  },
  {
   "cell_type": "code",
   "execution_count": 20,
   "metadata": {
    "id": "sSWXJvqZM2Ay"
   },
   "outputs": [],
   "source": [
    "# Creacion del pipeline\n",
    "pipelineclassifier  = Pipeline(steps=[\n",
    "                                 ('pre_processing',TfidfVectorizer(lowercase=False)),\n",
    "                                 ('model', RandomForestClassifier(max_depth = 12,\n",
    "                                     min_samples_leaf = 3,\n",
    "                                     min_samples_split = 3,\n",
    "                                     n_estimators = 200))\n",
    "                                 ])"
   ]
  },
  {
   "cell_type": "code",
   "execution_count": 21,
   "metadata": {
    "colab": {
     "base_uri": "https://localhost:8080/"
    },
    "id": "a-0tBYJuM2A0",
    "outputId": "fbd7e87a-8764-426c-f906-aac58c421b19",
    "scrolled": true
   },
   "outputs": [
    {
     "data": {
      "text/plain": [
       "Pipeline(steps=[('pre_processing', TfidfVectorizer(lowercase=False)),\n",
       "                ('model',\n",
       "                 RandomForestClassifier(max_depth=12, min_samples_leaf=3,\n",
       "                                        min_samples_split=3,\n",
       "                                        n_estimators=200))])"
      ]
     },
     "execution_count": 21,
     "metadata": {},
     "output_type": "execute_result"
    }
   ],
   "source": [
    "#entrenar el clasificador \n",
    "pipelineclassifier.fit(X_train,y_train)"
   ]
  },
  {
   "cell_type": "code",
   "execution_count": 22,
   "metadata": {
    "id": "esPZ30-KM2A1"
   },
   "outputs": [
    {
     "data": {
      "text/plain": [
       "['rfc_pipeline.pkl']"
      ]
     },
     "execution_count": 22,
     "metadata": {},
     "output_type": "execute_result"
    }
   ],
   "source": [
    "# Salcar el pipeline a un binary pickle file\n",
    "joblib.dump(pipelineclassifier, 'rfc_pipeline.pkl')"
   ]
  },
  {
   "cell_type": "code",
   "execution_count": 23,
   "metadata": {
    "colab": {
     "base_uri": "https://localhost:8080/"
    },
    "id": "0ud48rxiM2A2",
    "outputId": "0f67e67d-364b-4064-cb70-cb7afc6e49c4"
   },
   "outputs": [],
   "source": [
    "# Loading back in our serialized model\n",
    "loaded_model = joblib.load('rfc_pipeline.pkl')"
   ]
  },
  {
   "cell_type": "code",
   "execution_count": 24,
   "metadata": {
    "colab": {
     "base_uri": "https://localhost:8080/",
     "height": 297
    },
    "id": "U-kP_9cYM2A2",
    "outputId": "1e32497d-77f7-477c-874f-008e8cc4c1c5"
   },
   "outputs": [
    {
     "name": "stdout",
     "output_type": "stream",
     "text": [
      "Accuracy Score: 0.775\n",
      "ROC AUC Score: 0.775\n",
      "Confusion Matrix: \n",
      "[[0 0 0 ... 0 0 0]\n",
      " [0 0 0 ... 0 0 0]\n",
      " [0 1 0 ... 0 0 0]\n",
      " ...\n",
      " [0 1 0 ... 0 0 0]\n",
      " [1 0 0 ... 0 0 0]\n",
      " [0 1 0 ... 0 0 0]]\n"
     ]
    }
   ],
   "source": [
    "# Revisar los resultados predecidos  utilizando los datos de test\n",
    "pipeline_preds = loaded_model.predict(X_train)\n",
    "\n",
    "val_accuracy = accuracy_score(y_train, pipeline_preds)\n",
    "val_roc_auc = roc_auc_score(y_train, pipeline_preds)\n",
    "val_confusion_matrix = confusion_matrix(X_train, pipeline_preds)\n",
    "\n",
    "print(f'Accuracy Score: {val_accuracy}')\n",
    "print(f'ROC AUC Score: {val_roc_auc}')\n",
    "print(f'Confusion Matrix: \\n{val_confusion_matrix}')"
   ]
  },
  {
   "cell_type": "code",
   "execution_count": 35,
   "metadata": {},
   "outputs": [],
   "source": [
    "# test model performance\n",
    "prueba=[\"study intervention Cyclophosphamide diffuse large cell lymphoma diagnosis patient conform criterion\",\"study intervention Cyclophosphamide lymphoma diagnosis life expectancy\",]\n",
    "y_prediccion = pipelineclassifier.predict(prueba)"
   ]
  },
  {
   "cell_type": "code",
   "execution_count": 36,
   "metadata": {},
   "outputs": [
    {
     "name": "stdout",
     "output_type": "stream",
     "text": [
      "['1' '0']\n"
     ]
    }
   ],
   "source": [
    "print(y_prediccion)"
   ]
  },
  {
   "cell_type": "code",
   "execution_count": null,
   "metadata": {},
   "outputs": [],
   "source": []
  },
  {
   "cell_type": "code",
   "execution_count": 26,
   "metadata": {
    "id": "pAfAzdp9M2A5"
   },
   "outputs": [
    {
     "data": {
      "text/plain": [
       "0.7672222222222222"
      ]
     },
     "execution_count": 26,
     "metadata": {},
     "output_type": "execute_result"
    }
   ],
   "source": [
    "accuracy_score(y_test,y_prediccion)"
   ]
  },
  {
   "cell_type": "code",
   "execution_count": 27,
   "metadata": {},
   "outputs": [
    {
     "data": {
      "text/plain": [
       "<sklearn.metrics._plot.confusion_matrix.ConfusionMatrixDisplay at 0x266fbb0deb0>"
      ]
     },
     "execution_count": 27,
     "metadata": {},
     "output_type": "execute_result"
    },
    {
     "data": {
      "image/png": "[encoded data removed]",
      "text/plain": [
       "<Figure size 432x288 with 2 Axes>"
      ]
     },
     "metadata": {
      "needs_background": "light"
     },
     "output_type": "display_data"
    }
   ],
   "source": [
    "#matriz de confusion\n",
    "plot_confusion_matrix(pipelineclassifier, X_test, y_test, normalize='true')"
   ]
  },
  {
   "cell_type": "code",
   "execution_count": 28,
   "metadata": {},
   "outputs": [
    {
     "name": "stdout",
     "output_type": "stream",
     "text": [
      "              precision    recall  f1-score   support\n",
      "\n",
      "           0       0.78      0.75      0.76       900\n",
      "           1       0.76      0.78      0.77       900\n",
      "\n",
      "    accuracy                           0.77      1800\n",
      "   macro avg       0.77      0.77      0.77      1800\n",
      "weighted avg       0.77      0.77      0.77      1800\n",
      "\n"
     ]
    }
   ],
   "source": [
    "# revisar el reporte de clasificacion\n",
    "print(classification_report(y_test, y_prediccion))"
   ]
  },
  {
   "cell_type": "markdown",
   "metadata": {},
   "source": [
    "Salvar el modelo .joblib"
   ]
  },
  {
   "cell_type": "code",
   "execution_count": 29,
   "metadata": {},
   "outputs": [
    {
     "data": {
      "text/plain": [
       "['modelRandomForest.joblib']"
      ]
     },
     "execution_count": 29,
     "metadata": {},
     "output_type": "execute_result"
    }
   ],
   "source": [
    "joblib.dump(pipelineclassifier, 'modelRandomForest.joblib')"
   ]
  },
  {
   "cell_type": "code",
   "execution_count": null,
   "metadata": {},
   "outputs": [],
   "source": []
  },
  {
   "cell_type": "code",
   "execution_count": null,
   "metadata": {},
   "outputs": [],
   "source": []
  }
 ],
 "metadata": {
  "colab": {
   "name": "Proyecto1-2.ipynb",
   "provenance": []
  },
  "hide_input": false,
  "kernelspec": {
   "display_name": "Python 3 (ipykernel)",
   "language": "python",
   "name": "python3"
  },
  "language_info": {
   "codemirror_mode": {
    "name": "ipython",
    "version": 3
   },
   "file_extension": ".py",
   "mimetype": "text/x-python",
   "name": "python",
   "nbconvert_exporter": "python",
   "pygments_lexer": "ipython3",
   "version": "3.9.7"
  },
  "toc": {
   "base_numbering": 1,
   "nav_menu": {},
   "number_sections": true,
   "sideBar": true,
   "skip_h1_title": false,
   "title_cell": "Table of Contents",
   "title_sidebar": "Contents",
   "toc_cell": false,
   "toc_position": {},
   "toc_section_display": true,
   "toc_window_display": false
  }
 },
 "nbformat": 4,
 "nbformat_minor": 4
}
